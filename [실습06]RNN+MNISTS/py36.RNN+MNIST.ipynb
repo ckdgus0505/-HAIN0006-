{
 "cells": [
  {
   "cell_type": "markdown",
   "metadata": {},
   "source": [
    "# 0.1 라이브러리 임포트"
   ]
  },
  {
   "cell_type": "code",
   "execution_count": 1,
   "metadata": {},
   "outputs": [],
   "source": [
    "import torch\n",
    "import torch.nn as nn\n",
    "import torchvision.datasets as dset\n",
    "import torchvision.transforms as transforms\n",
    "import matplotlib.pyplot as plt\n",
    "from torch.autograd import Variable"
   ]
  },
  {
   "cell_type": "markdown",
   "metadata": {},
   "source": [
    "# 0.2 하이퍼파라미터 셋팅"
   ]
  },
  {
   "cell_type": "code",
   "execution_count": 2,
   "metadata": {},
   "outputs": [],
   "source": [
    "# Hyper-parameters\n",
    "sequence_length = 28\n",
    "input_size = 28\n",
    "hidden_size = 128\n",
    "num_layers = 2\n",
    "\n",
    "num_classes = 10\n",
    "batch_size = 100\n",
    "num_epochs = 2\n",
    "learning_rate = 0.01"
   ]
  },
  {
   "cell_type": "code",
   "execution_count": 3,
   "metadata": {},
   "outputs": [],
   "source": [
    "# Device configuration\n",
    "device = torch.device('cuda' if torch.cuda.is_available() else 'cpu')"
   ]
  },
  {
   "cell_type": "markdown",
   "metadata": {},
   "source": [
    "# 1. MNIST train, test dataset 가져오기"
   ]
  },
  {
   "cell_type": "code",
   "execution_count": 4,
   "metadata": {},
   "outputs": [],
   "source": [
    "# MNIST dataset\n",
    "mnist_train=dset.MNIST(\"\", train=True, transform=transforms.ToTensor(), target_transform=None, download=True)\n",
    "mnist_test=dset.MNIST(\"\", train=False, transform=transforms.ToTensor(), target_transform=None, download=True)"
   ]
  },
  {
   "cell_type": "markdown",
   "metadata": {},
   "source": [
    "# 2. 대략적인 데이터 형태"
   ]
  },
  {
   "cell_type": "code",
   "execution_count": 5,
   "metadata": {},
   "outputs": [
    {
     "name": "stdout",
     "output_type": "stream",
     "text": [
      "mnist_train 길이:  60000\n",
      "mnist_test 길이:  10000\n",
      "image data 형태:  torch.Size([1, 28, 28])\n",
      "label:  5\n"
     ]
    },
    {
     "data": {
      "image/png": "[encoded data removed]",
      "text/plain": [
       "<Figure size 432x288 with 1 Axes>"
      ]
     },
     "metadata": {
      "needs_background": "light"
     },
     "output_type": "display_data"
    }
   ],
   "source": [
    "print(\"mnist_train 길이: \", len(mnist_train))\n",
    "print(\"mnist_test 길이: \", len(mnist_test))\n",
    "\n",
    "# 데이터 하나 형태\n",
    "image, label = mnist_train.__getitem__(0) # 0번째 데이터\n",
    "print(\"image data 형태: \", image.size())\n",
    "print(\"label: \",label)\n",
    "\n",
    "# 그리기\n",
    "img = image.numpy() #image 타입을 numpy로 변환 (1,28,28)\n",
    "plt.title(\"label: %d\" %label)\n",
    "plt.imshow(img[0], cmap='gray')\n",
    "plt.show()"
   ]
  },
  {
   "cell_type": "markdown",
   "metadata": {},
   "source": [
    "# 3. 데이터 로드 함수\n",
    "\n",
    "학습시킬 때 batch_size 단위로 끊어서 로드하기 위함"
   ]
  },
  {
   "cell_type": "code",
   "execution_count": 6,
   "metadata": {},
   "outputs": [],
   "source": [
    "# Data loader\n",
    "train_loader = torch.utils.data.DataLoader(dataset=mnist_train, # mnist_train 을 트레인 시키자\n",
    "                                            batch_size=batch_size,\n",
    "                                          shuffle=True,\n",
    "                                          drop_last=True) # batch_size 만큼 나눌 때 나머지는 버림\n",
    "\n",
    "test_loader = torch.utils.data.DataLoader(dataset=mnist_train,\n",
    "                                            batch_size=batch_size,\n",
    "                                          shuffle=False, # test 에서는 shuffle 하지 않음\n",
    "                                          drop_last=True)"
   ]
  },
  {
   "cell_type": "markdown",
   "metadata": {},
   "source": [
    "# 데이터 로드함수 이해하기"
   ]
  },
  {
   "cell_type": "code",
   "execution_count": 7,
   "metadata": {},
   "outputs": [
    {
     "name": "stdout",
     "output_type": "stream",
     "text": [
      "[0]\n",
      "한 번에 로드되는 데이터 크기: 100\n"
     ]
    },
    {
     "data": {
      "image/png": "[encoded data removed]",
      "text/plain": [
       "<Figure size 432x288 with 3 Axes>"
      ]
     },
     "metadata": {
      "needs_background": "light"
     },
     "output_type": "display_data"
    },
    {
     "name": "stdout",
     "output_type": "stream",
     "text": [
      "[1]\n",
      "한 번에 로드되는 데이터 크기: 100\n"
     ]
    },
    {
     "data": {
      "image/png": "[encoded data removed]",
      "text/plain": [
       "<Figure size 432x288 with 3 Axes>"
      ]
     },
     "metadata": {
      "needs_background": "light"
     },
     "output_type": "display_data"
    },
    {
     "name": "stdout",
     "output_type": "stream",
     "text": [
      "[2]\n",
      "한 번에 로드되는 데이터 크기: 100\n"
     ]
    },
    {
     "data": {
      "image/png": "[encoded data removed]",
      "text/plain": [
       "<Figure size 432x288 with 3 Axes>"
      ]
     },
     "metadata": {
      "needs_background": "light"
     },
     "output_type": "display_data"
    },
    {
     "name": "stdout",
     "output_type": "stream",
     "text": [
      "[3]\n",
      "한 번에 로드되는 데이터 크기: 100\n"
     ]
    },
    {
     "data": {
      "image/png": "[encoded data removed]",
      "text/plain": [
       "<Figure size 432x288 with 3 Axes>"
      ]
     },
     "metadata": {
      "needs_background": "light"
     },
     "output_type": "display_data"
    },
    {
     "name": "stdout",
     "output_type": "stream",
     "text": [
      "[4]\n",
      "한 번에 로드되는 데이터 크기: 100\n"
     ]
    },
    {
     "data": {
      "image/png": "[encoded data removed]",
      "text/plain": [
       "<Figure size 432x288 with 3 Axes>"
      ]
     },
     "metadata": {
      "needs_background": "light"
     },
     "output_type": "display_data"
    },
    {
     "name": "stdout",
     "output_type": "stream",
     "text": [
      "[5]\n",
      "한 번에 로드되는 데이터 크기: 100\n"
     ]
    },
    {
     "data": {
      "image/png": "[encoded data removed]",
      "text/plain": [
       "<Figure size 432x288 with 3 Axes>"
      ]
     },
     "metadata": {
      "needs_background": "light"
     },
     "output_type": "display_data"
    }
   ],
   "source": [
    "n = 3 # 샘플로 그려볼 데이터 개수\n",
    "for i, [imgs, labels] in enumerate(test_loader): # batch_size 만큼\n",
    "    if i > 5:\n",
    "        break\n",
    "        \n",
    "    print (\"[%d]\"%i)\n",
    "    print(\"한 번에 로드되는 데이터 크기:\", len(imgs))\n",
    "    \n",
    "    # 그리기\n",
    "    for j in range(n):\n",
    "        img = imgs[j].numpy() # image 타입을 numpy 로 변환 (1,28,28)\n",
    "        img = img.reshape((img.shape[1], img.shape[2])) # (1,28,28) -> (28,28)\n",
    "#         print(img.shape)\n",
    "        \n",
    "        plt.subplot(1,n,j+1) # (1,3) 형태 플랏의 j 번째 자리에 그리겠다\n",
    "        plt.imshow(img, cmap='gray')\n",
    "        plt.title(\"label: %d\" %labels[j])\n",
    "    plt.show()"
   ]
  },
  {
   "cell_type": "markdown",
   "metadata": {},
   "source": [
    "# 4. 모델 선언"
   ]
  },
  {
   "cell_type": "code",
   "execution_count": 8,
   "metadata": {},
   "outputs": [],
   "source": [
    "# Recurrent neural network (many-to-one)\n",
    "class RNN(nn.Module):\n",
    "    def __init__(self, input_size, hidden_size, num_layers, num_classes):\n",
    "        super(RNN, self).__init__()\n",
    "        self.hidden_size = hidden_size\n",
    "        self.num_layers=num_layers\n",
    "        self.lstm = nn.LSTM(input_size, hidden_size, num_layers, batch_first=True)\n",
    "        self.fc = nn.Linear(hidden_size, num_classes)\n",
    "        \n",
    "    def forward(self, x):\n",
    "        # -----\n",
    "        # input tensor : (batc_size, seq_length, input_size)\n",
    "        # x: (100, 28, 28)\n",
    "        # print('x: ', x.shape)\n",
    "        \n",
    "        # -----\n",
    "        # hidden state tensor: (# of layers, batch_size, hidden_size)\n",
    "        # h: (2, 100, 128)\n",
    "        h0 = torch.zeros(self.num_layers, x.size(0), self.hidden_size).to(device)\n",
    "        c0 = torch.zeros(self.num_layers, x.size(0), self.hidden_size).to(device)\n",
    "        \n",
    "        # -----\n",
    "        # Forward propagate LSTM\n",
    "        # output tensor: (batch_size, seq_length, hidden_size)\n",
    "        # out: (100, 28, 128)\n",
    "        # print('out: ', out.shape)\n",
    "        \n",
    "        out, _ = self.lstm(x, (h0, c0))\n",
    "        \n",
    "        # -----\n",
    "        # 28번째 output layer : (bs, hidden_size)\n",
    "        # out[:, -1, :]: (100, 128)\n",
    "        # print('out[-1]: ', out.shape)\n",
    "        \n",
    "        out = self.fc(out[:, -1, :])\n",
    "        \n",
    "        # y^: (batch_size, num_classes)\n",
    "        # y_pred: (100, 10)\n",
    "        #print('out: ', out.shape)\n",
    "        \n",
    "        return out"
   ]
  },
  {
   "cell_type": "code",
   "execution_count": 9,
   "metadata": {},
   "outputs": [],
   "source": [
    "model = RNN(input_size, hidden_size, num_layers, num_classes).to(device)"
   ]
  },
  {
   "cell_type": "code",
   "execution_count": 10,
   "metadata": {},
   "outputs": [],
   "source": [
    "def ComputeAccr(dloader, imodel):\n",
    "    correct = 0\n",
    "    total = 0\n",
    "    \n",
    "    for j, [imgs, labels] in enumerate(dloader):\n",
    "        # x: (batch_size, 1, seq_length, input_size)) -> (batch_size, seq_length,  input_size)\n",
    "        img = imgs\n",
    "        img = img.reshape(-1, sequence_length, input_size).to(device)\n",
    "        \n",
    "        # y: (batch_size, num_classes)\n",
    "        label = labels.to(device) # y # Variable(labels)\n",
    "        #label = Variable(labels).cuda()\n",
    "        # .cuda() : GPU에 로드되기 위함. 만약, CPU로 설정되어있으면 에러\n",
    "        \n",
    "        # Forward prop.\n",
    "        output = imodel(img) # (batch_size, num_classes)\n",
    "        _, output_index = torch.max(output, 1) # (batch_size, 1)\n",
    "        \n",
    "        total += label.size(0)\n",
    "        correct += (output_index == label).sum().float()\n",
    "    #print('Accuracy of Test Data: {}',format(100*correct/total))\n",
    "    return (100*correct/total).numpy() # tensor -> numpy"
   ]
  },
  {
   "cell_type": "code",
   "execution_count": 11,
   "metadata": {},
   "outputs": [
    {
     "name": "stdout",
     "output_type": "stream",
     "text": [
      "Accuracy of Test Data: 10.22\n"
     ]
    }
   ],
   "source": [
    "print(\"Accuracy of Test Data: %.2f\" %ComputeAccr(test_loader, model))"
   ]
  },
  {
   "cell_type": "markdown",
   "metadata": {},
   "source": [
    "# 5. loss, optimizer"
   ]
  },
  {
   "cell_type": "code",
   "execution_count": 12,
   "metadata": {},
   "outputs": [],
   "source": [
    "# Loss and optimizer\n",
    "loss_func = nn.CrossEntropyLoss()\n",
    "optimizer = torch.optim.Adam(model.parameters(), lr=learning_rate)"
   ]
  },
  {
   "cell_type": "markdown",
   "metadata": {},
   "source": [
    "# 6. 학습"
   ]
  },
  {
   "cell_type": "code",
   "execution_count": 13,
   "metadata": {},
   "outputs": [
    {
     "name": "stdout",
     "output_type": "stream",
     "text": [
      "Epoch [1/2], Step[100/600], Loss: 0.6488, Accr: 79.48\n",
      "Epoch [1/2], Step[200/600], Loss: 0.2355, Accr: 87.82\n",
      "Epoch [1/2], Step[300/600], Loss: 0.3294, Accr: 93.56\n",
      "Epoch [1/2], Step[400/600], Loss: 0.0902, Accr: 95.22\n",
      "Epoch [1/2], Step[500/600], Loss: 0.2776, Accr: 95.74\n",
      "Epoch [1/2], Step[600/600], Loss: 0.1241, Accr: 95.81\n",
      "Epoch [2/2], Step[100/600], Loss: 0.1626, Accr: 97.01\n",
      "Epoch [2/2], Step[200/600], Loss: 0.1601, Accr: 96.80\n",
      "Epoch [2/2], Step[300/600], Loss: 0.0934, Accr: 97.79\n",
      "Epoch [2/2], Step[400/600], Loss: 0.2190, Accr: 97.37\n",
      "Epoch [2/2], Step[500/600], Loss: 0.1433, Accr: 97.58\n",
      "Epoch [2/2], Step[600/600], Loss: 0.1129, Accr: 97.75\n"
     ]
    }
   ],
   "source": [
    "# Train the model\n",
    "total_step = len(train_loader)\n",
    "for epoch in range(num_epochs):\n",
    "    for i, [imgs, labels] in enumerate(train_loader):\n",
    "        # x: (batch_size, 1, seq_length, input_size) -> (batch_size, seq_length, input_size)\n",
    "        img = imgs\n",
    "        img = img.reshape(-1, sequence_length, input_size).to(device)\n",
    "        \n",
    "        # y: (batch_size, num_classes)\n",
    "        label = labels.to(device) # y # Variable(labels)\n",
    "        \n",
    "        # Forward prop.\n",
    "        outputs = model(img)\n",
    "        loss = loss_func(outputs, label)\n",
    "        \n",
    "        # Backward prop. & optimize\n",
    "        optimizer.zero_grad()\n",
    "        loss.backward()\n",
    "        optimizer.step()\n",
    "        \n",
    "        if (i+1) % 100 == 0:\n",
    "            print('Epoch [{}/{}], Step[{}/{}], Loss: {:.4f}, Accr: {:.2f}'\n",
    "                  .format(epoch+1, num_epochs, i+1, total_step,\n",
    "                         loss.item(),\n",
    "                         ComputeAccr(test_loader, model)))"
   ]
  },
  {
   "cell_type": "markdown",
   "metadata": {},
   "source": [
    "# 7. 테스트"
   ]
  },
  {
   "cell_type": "code",
   "execution_count": 14,
   "metadata": {},
   "outputs": [
    {
     "name": "stdout",
     "output_type": "stream",
     "text": [
      "Accuracy of Test Data: 97.75\n"
     ]
    }
   ],
   "source": [
    "print(\"Accuracy of Test Data: %.2f\" %ComputeAccr(test_loader, model))"
   ]
  },
  {
   "cell_type": "markdown",
   "metadata": {},
   "source": [
    "# 8. 학습된 파라미터 저장"
   ]
  },
  {
   "cell_type": "code",
   "execution_count": 15,
   "metadata": {},
   "outputs": [
    {
     "name": "stderr",
     "output_type": "stream",
     "text": [
      "/home/ec2-user/anaconda3/envs/pytorch_p36/lib/python3.6/site-packages/torch/serialization.py:360: UserWarning: Couldn't retrieve source code for container of type RNN. It won't be checked for correctness upon loading.\n",
      "  \"type \" + obj.__name__ + \". It won't be checked \"\n"
     ]
    }
   ],
   "source": [
    "netname = './nets/rnn_weight.pkl'\n",
    "torch.save(model, netname, )"
   ]
  },
  {
   "cell_type": "markdown",
   "metadata": {},
   "source": [
    "# 9. 학습된 파라미터 로드\n",
    "실무에서 학습된(pretrained) 파라미터 로드하고 싶다면: 5,6,8 과정 생략한 채 실행"
   ]
  },
  {
   "cell_type": "code",
   "execution_count": 16,
   "metadata": {},
   "outputs": [],
   "source": [
    "netname = './nets/rnn_weight.pkl'\n",
    "model = torch.load(netname)"
   ]
  },
  {
   "cell_type": "code",
   "execution_count": 17,
   "metadata": {},
   "outputs": [
    {
     "name": "stdout",
     "output_type": "stream",
     "text": [
      "Accuracy of Test Data: 97.75\n"
     ]
    }
   ],
   "source": [
    "print(\"Accuracy of Test Data: %.2f\" %ComputeAccr(test_loader, model))"
   ]
  }
 ],
 "metadata": {
  "kernelspec": {
   "display_name": "Python 3",
   "language": "python",
   "name": "python3"
  },
  "language_info": {
   "codemirror_mode": {
    "name": "ipython",
    "version": 3
   },
   "file_extension": ".py",
   "mimetype": "text/x-python",
   "name": "python",
   "nbconvert_exporter": "python",
   "pygments_lexer": "ipython3",
   "version": "3.9.0"
  }
 },
 "nbformat": 4,
 "nbformat_minor": 4
}
